{
 "cells": [
  {
   "cell_type": "markdown",
   "id": "86e2704f",
   "metadata": {},
   "source": [
    "# import lib"
   ]
  },
  {
   "cell_type": "code",
   "execution_count": 3,
   "id": "fb4b5f9d",
   "metadata": {},
   "outputs": [],
   "source": [
    "import pandas\n",
    "import psycopg2\n",
    "import configparser"
   ]
  },
  {
   "cell_type": "markdown",
   "id": "6e1f1eab",
   "metadata": {},
   "source": [
    "# connect to db"
   ]
  },
  {
   "cell_type": "code",
   "execution_count": 4,
   "id": "74d6f3d6",
   "metadata": {},
   "outputs": [],
   "source": [
    "config = configparser.ConfigParser()\n",
    "config.read('config.ini')\n",
    "\n",
    "host=config['myaws']['host']\n",
    "db=config['myaws']['db']\n",
    "user=config['myaws']['user']\n",
    "pwd = config['myaws']['pwd']\n",
    "\n",
    "conn = psycopg2.connect(  host=host,\n",
    "                       user=user,\n",
    "                       password = pwd,\n",
    "                       dbname=db)"
   ]
  },
  {
   "cell_type": "code",
   "execution_count": 5,
   "id": "12a91bab",
   "metadata": {},
   "outputs": [],
   "source": [
    "cur=conn.cursor()"
   ]
  },
  {
   "cell_type": "markdown",
   "id": "51f833c7",
   "metadata": {},
   "source": [
    "# q1"
   ]
  },
  {
   "cell_type": "code",
   "execution_count": 4,
   "id": "305745f8",
   "metadata": {
    "scrolled": true
   },
   "outputs": [
    {
     "data": {
      "text/html": [
       "<div>\n",
       "<style scoped>\n",
       "    .dataframe tbody tr th:only-of-type {\n",
       "        vertical-align: middle;\n",
       "    }\n",
       "\n",
       "    .dataframe tbody tr th {\n",
       "        vertical-align: top;\n",
       "    }\n",
       "\n",
       "    .dataframe thead th {\n",
       "        text-align: right;\n",
       "    }\n",
       "</style>\n",
       "<table border=\"1\" class=\"dataframe\">\n",
       "  <thead>\n",
       "    <tr style=\"text-align: right;\">\n",
       "      <th></th>\n",
       "      <th>s_email</th>\n",
       "      <th>s_name</th>\n",
       "      <th>s_major</th>\n",
       "    </tr>\n",
       "  </thead>\n",
       "  <tbody>\n",
       "    <tr>\n",
       "      <th>0</th>\n",
       "      <td>jdoe@dukes.jmu.edu</td>\n",
       "      <td>Jane Doe</td>\n",
       "      <td>IA</td>\n",
       "    </tr>\n",
       "    <tr>\n",
       "      <th>1</th>\n",
       "      <td>kdoe@dukes.jmu.edu</td>\n",
       "      <td>Kim Doe</td>\n",
       "      <td>IA</td>\n",
       "    </tr>\n",
       "    <tr>\n",
       "      <th>2</th>\n",
       "      <td>hdoe@dukes.jmu.edu</td>\n",
       "      <td>Hannah Doe</td>\n",
       "      <td>IA</td>\n",
       "    </tr>\n",
       "    <tr>\n",
       "      <th>3</th>\n",
       "      <td>jsmith@dukes.jmu.edu</td>\n",
       "      <td>James Smith</td>\n",
       "      <td>IA</td>\n",
       "    </tr>\n",
       "    <tr>\n",
       "      <th>4</th>\n",
       "      <td>ksmith@dukes.jmu.edu</td>\n",
       "      <td>Kendall Smith</td>\n",
       "      <td>IA</td>\n",
       "    </tr>\n",
       "  </tbody>\n",
       "</table>\n",
       "</div>"
      ],
      "text/plain": [
       "                s_email         s_name s_major\n",
       "0    jdoe@dukes.jmu.edu       Jane Doe      IA\n",
       "1    kdoe@dukes.jmu.edu        Kim Doe      IA\n",
       "2    hdoe@dukes.jmu.edu     Hannah Doe      IA\n",
       "3  jsmith@dukes.jmu.edu    James Smith      IA\n",
       "4  ksmith@dukes.jmu.edu  Kendall Smith      IA"
      ]
     },
     "execution_count": 4,
     "metadata": {},
     "output_type": "execute_result"
    }
   ],
   "source": [
    "df_student=pandas.read_sql_query('select * from gp22.student',conn)\n",
    "df_student[:]"
   ]
  },
  {
   "cell_type": "markdown",
   "id": "819605b3",
   "metadata": {},
   "source": [
    "# q2"
   ]
  },
  {
   "cell_type": "code",
   "execution_count": 5,
   "id": "c11816d2",
   "metadata": {},
   "outputs": [],
   "source": [
    "sql_statement = \"\"\"\n",
    "                select gp22.professor.p_name,\n",
    "                        gp22.course.c_name\n",
    "                    from gp22.professor\n",
    "                    inner join gp22.course\n",
    "                    on gp22.professor.p_email = gp22.course.p_email\n",
    "                    \"\"\""
   ]
  },
  {
   "cell_type": "code",
   "execution_count": 6,
   "id": "76298dca",
   "metadata": {},
   "outputs": [
    {
     "data": {
      "text/html": [
       "<div>\n",
       "<style scoped>\n",
       "    .dataframe tbody tr th:only-of-type {\n",
       "        vertical-align: middle;\n",
       "    }\n",
       "\n",
       "    .dataframe tbody tr th {\n",
       "        vertical-align: top;\n",
       "    }\n",
       "\n",
       "    .dataframe thead th {\n",
       "        text-align: right;\n",
       "    }\n",
       "</style>\n",
       "<table border=\"1\" class=\"dataframe\">\n",
       "  <thead>\n",
       "    <tr style=\"text-align: right;\">\n",
       "      <th></th>\n",
       "      <th>p_name</th>\n",
       "      <th>c_name</th>\n",
       "    </tr>\n",
       "  </thead>\n",
       "  <tbody>\n",
       "    <tr>\n",
       "      <th>0</th>\n",
       "      <td>noel hendrickson</td>\n",
       "      <td>Intro to IA</td>\n",
       "    </tr>\n",
       "    <tr>\n",
       "      <th>1</th>\n",
       "      <td>stephen marrin</td>\n",
       "      <td>Cyber Intell</td>\n",
       "    </tr>\n",
       "    <tr>\n",
       "      <th>2</th>\n",
       "      <td>timothy walton</td>\n",
       "      <td>Intro to ML</td>\n",
       "    </tr>\n",
       "    <tr>\n",
       "      <th>3</th>\n",
       "      <td>john jax</td>\n",
       "      <td>Counter Terrorism</td>\n",
       "    </tr>\n",
       "    <tr>\n",
       "      <th>4</th>\n",
       "      <td>john jax</td>\n",
       "      <td>Intro to Python\\n</td>\n",
       "    </tr>\n",
       "    <tr>\n",
       "      <th>5</th>\n",
       "      <td>john jax</td>\n",
       "      <td>Data Mining</td>\n",
       "    </tr>\n",
       "  </tbody>\n",
       "</table>\n",
       "</div>"
      ],
      "text/plain": [
       "             p_name             c_name\n",
       "0  noel hendrickson        Intro to IA\n",
       "1    stephen marrin       Cyber Intell\n",
       "2    timothy walton        Intro to ML\n",
       "3          john jax  Counter Terrorism\n",
       "4          john jax  Intro to Python\\n\n",
       "5          john jax        Data Mining"
      ]
     },
     "execution_count": 6,
     "metadata": {},
     "output_type": "execute_result"
    }
   ],
   "source": [
    "df_student=pandas.read_sql_query(sql_statement,conn)\n",
    "df_student[:]"
   ]
  },
  {
   "cell_type": "markdown",
   "id": "291759f8",
   "metadata": {},
   "source": [
    "# q3"
   ]
  },
  {
   "cell_type": "code",
   "execution_count": 8,
   "id": "b67bf945",
   "metadata": {},
   "outputs": [],
   "source": [
    "sql_statement= \"\"\"\n",
    "                select c_num,\n",
    "                       count(c_num) as enrolled\n",
    "                from gp22.enroll_list\n",
    "                group by c_num\n",
    "                \n",
    "                \"\"\""
   ]
  },
  {
   "cell_type": "code",
   "execution_count": 10,
   "id": "0df3aa7f",
   "metadata": {},
   "outputs": [
    {
     "data": {
      "text/plain": [
       "<AxesSubplot:xlabel='c_num'>"
      ]
     },
     "execution_count": 10,
     "metadata": {},
     "output_type": "execute_result"
    },
    {
     "data": {
      "image/png": "[encoded data removed]",
      "text/plain": [
       "<Figure size 432x288 with 1 Axes>"
      ]
     },
     "metadata": {
      "needs_background": "light"
     },
     "output_type": "display_data"
    }
   ],
   "source": [
    "df_price=pandas.read_sql_query(sql_statement,conn)\n",
    "\n",
    "df_price.plot.bar(x='c_num',y='enrolled')"
   ]
  },
  {
   "cell_type": "markdown",
   "id": "ad1831db",
   "metadata": {},
   "source": [
    "# q4"
   ]
  },
  {
   "cell_type": "code",
   "execution_count": 11,
   "id": "b2ed5b08",
   "metadata": {},
   "outputs": [],
   "source": [
    "sql_statement= \"\"\"\n",
    "                select gp22.professor.p_name,\n",
    "                    count(gp22.course.c_name) as teaching_number\n",
    "                from gp22.professor\n",
    "                inner join gp22.course\n",
    "                on gp22.professor.p_email = gp22.course.p_email\n",
    "                group by professor.p_name\n",
    "                \n",
    "                \"\"\""
   ]
  },
  {
   "cell_type": "code",
   "execution_count": 12,
   "id": "a3ad31bc",
   "metadata": {},
   "outputs": [
    {
     "data": {
      "text/plain": [
       "<AxesSubplot:xlabel='p_name'>"
      ]
     },
     "execution_count": 12,
     "metadata": {},
     "output_type": "execute_result"
    },
    {
     "data": {
      "image/png": "[encoded data removed]",
      "text/plain": [
       "<Figure size 432x288 with 1 Axes>"
      ]
     },
     "metadata": {
      "needs_background": "light"
     },
     "output_type": "display_data"
    }
   ],
   "source": [
    "df_price=pandas.read_sql_query(sql_statement,conn)\n",
    "\n",
    "df_price.plot.bar(x='p_name',y='teaching_number')"
   ]
  },
  {
   "cell_type": "markdown",
   "id": "e6db967c",
   "metadata": {},
   "source": [
    "# q5"
   ]
  },
  {
   "cell_type": "code",
   "execution_count": 11,
   "id": "edb12bc8",
   "metadata": {},
   "outputs": [
    {
     "name": "stdout",
     "output_type": "stream",
     "text": [
      "\n",
      "                insert into gp22.professor(p_email,p_name,p_office)\n",
      "                values('s7@jmu.edu','Steve Jobs','ISAT 1123')\n",
      "                                \n",
      "                \n"
     ]
    }
   ],
   "source": [
    "sql_statement = \"\"\"\n",
    "                insert into gp22.professor(p_email,p_name,p_office)\n",
    "                values('{}','{}','{}')\n",
    "                                \n",
    "                \"\"\".format('s7@jmu.edu','Steve Jobs', 'ISAT 1123')\n",
    "\n",
    "print(sql_statement)"
   ]
  },
  {
   "cell_type": "code",
   "execution_count": 12,
   "id": "0e14fe7f",
   "metadata": {},
   "outputs": [],
   "source": [
    "cur.execute(sql_statement)"
   ]
  },
  {
   "cell_type": "code",
   "execution_count": 7,
   "id": "83161418",
   "metadata": {},
   "outputs": [],
   "source": [
    "conn.rollback()"
   ]
  },
  {
   "cell_type": "code",
   "execution_count": 13,
   "id": "4557e705",
   "metadata": {},
   "outputs": [],
   "source": [
    "conn.commit()"
   ]
  },
  {
   "cell_type": "code",
   "execution_count": 14,
   "id": "b952372d",
   "metadata": {},
   "outputs": [
    {
     "data": {
      "text/html": [
       "<div>\n",
       "<style scoped>\n",
       "    .dataframe tbody tr th:only-of-type {\n",
       "        vertical-align: middle;\n",
       "    }\n",
       "\n",
       "    .dataframe tbody tr th {\n",
       "        vertical-align: top;\n",
       "    }\n",
       "\n",
       "    .dataframe thead th {\n",
       "        text-align: right;\n",
       "    }\n",
       "</style>\n",
       "<table border=\"1\" class=\"dataframe\">\n",
       "  <thead>\n",
       "    <tr style=\"text-align: right;\">\n",
       "      <th></th>\n",
       "      <th>p_email</th>\n",
       "      <th>p_name</th>\n",
       "      <th>p_office</th>\n",
       "    </tr>\n",
       "  </thead>\n",
       "  <tbody>\n",
       "    <tr>\n",
       "      <th>0</th>\n",
       "      <td>hendrinx@jmu.edu</td>\n",
       "      <td>noel hendrickson</td>\n",
       "      <td>isat0150</td>\n",
       "    </tr>\n",
       "    <tr>\n",
       "      <th>1</th>\n",
       "      <td>marrinsp@jmu.edu</td>\n",
       "      <td>stephen marrin</td>\n",
       "      <td>engeo1204</td>\n",
       "    </tr>\n",
       "    <tr>\n",
       "      <th>2</th>\n",
       "      <td>waltontr@jmu.edu</td>\n",
       "      <td>timothy walton</td>\n",
       "      <td>engeo1304</td>\n",
       "    </tr>\n",
       "    <tr>\n",
       "      <th>3</th>\n",
       "      <td>s6@jmu.edu</td>\n",
       "      <td>Steve Jobs</td>\n",
       "      <td>ISAT 1123</td>\n",
       "    </tr>\n",
       "    <tr>\n",
       "      <th>4</th>\n",
       "      <td>s7@jmu.edu</td>\n",
       "      <td>Steve Jobs</td>\n",
       "      <td>ISAT 1123</td>\n",
       "    </tr>\n",
       "  </tbody>\n",
       "</table>\n",
       "</div>"
      ],
      "text/plain": [
       "            p_email            p_name   p_office\n",
       "0  hendrinx@jmu.edu  noel hendrickson   isat0150\n",
       "1  marrinsp@jmu.edu    stephen marrin  engeo1204\n",
       "2  waltontr@jmu.edu    timothy walton  engeo1304\n",
       "3        s6@jmu.edu        Steve Jobs  ISAT 1123\n",
       "4        s7@jmu.edu        Steve Jobs  ISAT 1123"
      ]
     },
     "execution_count": 14,
     "metadata": {},
     "output_type": "execute_result"
    }
   ],
   "source": [
    "df_student=pandas.read_sql_query('select * from gp22.professor',conn)\n",
    "df_student[:]"
   ]
  },
  {
   "cell_type": "code",
   "execution_count": 15,
   "id": "7ea2aa69",
   "metadata": {},
   "outputs": [
    {
     "name": "stdout",
     "output_type": "stream",
     "text": [
      "\n",
      "                insert into gp22.course(c_num,c_name,p_email)\n",
      "                values('IA 378','IA New','s7@jmu.edu')\n",
      "                                \n",
      "                \n"
     ]
    }
   ],
   "source": [
    "sql_statement = \"\"\"\n",
    "                insert into gp22.course(c_num,c_name,p_email)\n",
    "                values('{}','{}','{}')\n",
    "                                \n",
    "                \"\"\".format('IA 378','IA New', 's7@jmu.edu')\n",
    "\n",
    "print(sql_statement)"
   ]
  },
  {
   "cell_type": "code",
   "execution_count": 16,
   "id": "e1fa126b",
   "metadata": {},
   "outputs": [],
   "source": [
    "cur.execute(sql_statement)"
   ]
  },
  {
   "cell_type": "code",
   "execution_count": 17,
   "id": "6a30ba48",
   "metadata": {},
   "outputs": [],
   "source": [
    "conn.commit()"
   ]
  },
  {
   "cell_type": "code",
   "execution_count": 18,
   "id": "5914884a",
   "metadata": {},
   "outputs": [
    {
     "data": {
      "text/html": [
       "<div>\n",
       "<style scoped>\n",
       "    .dataframe tbody tr th:only-of-type {\n",
       "        vertical-align: middle;\n",
       "    }\n",
       "\n",
       "    .dataframe tbody tr th {\n",
       "        vertical-align: top;\n",
       "    }\n",
       "\n",
       "    .dataframe thead th {\n",
       "        text-align: right;\n",
       "    }\n",
       "</style>\n",
       "<table border=\"1\" class=\"dataframe\">\n",
       "  <thead>\n",
       "    <tr style=\"text-align: right;\">\n",
       "      <th></th>\n",
       "      <th>c_num</th>\n",
       "      <th>c_name</th>\n",
       "      <th>c_room</th>\n",
       "      <th>p_email</th>\n",
       "    </tr>\n",
       "  </thead>\n",
       "  <tbody>\n",
       "    <tr>\n",
       "      <th>0</th>\n",
       "      <td>IA150</td>\n",
       "      <td>Intro to IA</td>\n",
       "      <td>ISAT1204</td>\n",
       "      <td>hendrinx@jmu.edu</td>\n",
       "    </tr>\n",
       "    <tr>\n",
       "      <th>1</th>\n",
       "      <td>IA365</td>\n",
       "      <td>Cyber Intell</td>\n",
       "      <td>EnGeo2203\\n</td>\n",
       "      <td>marrinsp@jmu.edu</td>\n",
       "    </tr>\n",
       "    <tr>\n",
       "      <th>2</th>\n",
       "      <td>IA480</td>\n",
       "      <td>Intro to ML</td>\n",
       "      <td>ISAT2010\\n</td>\n",
       "      <td>waltontr@jmu.edu</td>\n",
       "    </tr>\n",
       "    <tr>\n",
       "      <th>3</th>\n",
       "      <td>IA 368</td>\n",
       "      <td>IA New</td>\n",
       "      <td>None</td>\n",
       "      <td>s6@jmu.edu</td>\n",
       "    </tr>\n",
       "    <tr>\n",
       "      <th>4</th>\n",
       "      <td>IA450</td>\n",
       "      <td>Counter Terrorism</td>\n",
       "      <td>EnGeo 1232</td>\n",
       "      <td>s6@jmu.edu</td>\n",
       "    </tr>\n",
       "    <tr>\n",
       "      <th>5</th>\n",
       "      <td>IA240</td>\n",
       "      <td>Intro to Python\\n</td>\n",
       "      <td>EnGeo1207</td>\n",
       "      <td>s6@jmu.edu</td>\n",
       "    </tr>\n",
       "    <tr>\n",
       "      <th>6</th>\n",
       "      <td>IA340\\n</td>\n",
       "      <td>Data Mining</td>\n",
       "      <td>ISAT0150</td>\n",
       "      <td>s6@jmu.edu</td>\n",
       "    </tr>\n",
       "    <tr>\n",
       "      <th>7</th>\n",
       "      <td>IA 378</td>\n",
       "      <td>IA New</td>\n",
       "      <td>None</td>\n",
       "      <td>s7@jmu.edu</td>\n",
       "    </tr>\n",
       "  </tbody>\n",
       "</table>\n",
       "</div>"
      ],
      "text/plain": [
       "     c_num             c_name       c_room           p_email\n",
       "0    IA150        Intro to IA     ISAT1204  hendrinx@jmu.edu\n",
       "1    IA365       Cyber Intell  EnGeo2203\\n  marrinsp@jmu.edu\n",
       "2    IA480        Intro to ML   ISAT2010\\n  waltontr@jmu.edu\n",
       "3   IA 368             IA New         None        s6@jmu.edu\n",
       "4    IA450  Counter Terrorism   EnGeo 1232        s6@jmu.edu\n",
       "5    IA240  Intro to Python\\n    EnGeo1207        s6@jmu.edu\n",
       "6  IA340\\n        Data Mining     ISAT0150        s6@jmu.edu\n",
       "7   IA 378             IA New         None        s7@jmu.edu"
      ]
     },
     "execution_count": 18,
     "metadata": {},
     "output_type": "execute_result"
    }
   ],
   "source": [
    "df_student=pandas.read_sql_query('select * from gp22.course',conn)\n",
    "df_student[:]"
   ]
  },
  {
   "cell_type": "code",
   "execution_count": 19,
   "id": "a949e169",
   "metadata": {},
   "outputs": [
    {
     "name": "stdout",
     "output_type": "stream",
     "text": [
      "\n",
      "                update gp22.course\n",
      "                set p_email = 's7@jmu.edu'\n",
      "                where p_email = 's6@jmu.edu'\n",
      "                \n"
     ]
    }
   ],
   "source": [
    "sql_statement = \"\"\"\n",
    "                update gp22.course\n",
    "                set p_email = 's7@jmu.edu'\n",
    "                where p_email = 's6@jmu.edu'\n",
    "                \"\"\"\n",
    "print(sql_statement)"
   ]
  },
  {
   "cell_type": "code",
   "execution_count": 20,
   "id": "b4fe77b9",
   "metadata": {},
   "outputs": [],
   "source": [
    "cur.execute(sql_statement)"
   ]
  },
  {
   "cell_type": "code",
   "execution_count": 21,
   "id": "15c3a3ea",
   "metadata": {},
   "outputs": [],
   "source": [
    "conn.commit()"
   ]
  },
  {
   "cell_type": "code",
   "execution_count": 22,
   "id": "10d87077",
   "metadata": {},
   "outputs": [
    {
     "data": {
      "text/html": [
       "<div>\n",
       "<style scoped>\n",
       "    .dataframe tbody tr th:only-of-type {\n",
       "        vertical-align: middle;\n",
       "    }\n",
       "\n",
       "    .dataframe tbody tr th {\n",
       "        vertical-align: top;\n",
       "    }\n",
       "\n",
       "    .dataframe thead th {\n",
       "        text-align: right;\n",
       "    }\n",
       "</style>\n",
       "<table border=\"1\" class=\"dataframe\">\n",
       "  <thead>\n",
       "    <tr style=\"text-align: right;\">\n",
       "      <th></th>\n",
       "      <th>c_num</th>\n",
       "      <th>c_name</th>\n",
       "      <th>c_room</th>\n",
       "      <th>p_email</th>\n",
       "    </tr>\n",
       "  </thead>\n",
       "  <tbody>\n",
       "    <tr>\n",
       "      <th>0</th>\n",
       "      <td>IA150</td>\n",
       "      <td>Intro to IA</td>\n",
       "      <td>ISAT1204</td>\n",
       "      <td>hendrinx@jmu.edu</td>\n",
       "    </tr>\n",
       "    <tr>\n",
       "      <th>1</th>\n",
       "      <td>IA365</td>\n",
       "      <td>Cyber Intell</td>\n",
       "      <td>EnGeo2203\\n</td>\n",
       "      <td>marrinsp@jmu.edu</td>\n",
       "    </tr>\n",
       "    <tr>\n",
       "      <th>2</th>\n",
       "      <td>IA480</td>\n",
       "      <td>Intro to ML</td>\n",
       "      <td>ISAT2010\\n</td>\n",
       "      <td>waltontr@jmu.edu</td>\n",
       "    </tr>\n",
       "    <tr>\n",
       "      <th>3</th>\n",
       "      <td>IA 378</td>\n",
       "      <td>IA New</td>\n",
       "      <td>None</td>\n",
       "      <td>s7@jmu.edu</td>\n",
       "    </tr>\n",
       "    <tr>\n",
       "      <th>4</th>\n",
       "      <td>IA 368</td>\n",
       "      <td>IA New</td>\n",
       "      <td>None</td>\n",
       "      <td>s7@jmu.edu</td>\n",
       "    </tr>\n",
       "    <tr>\n",
       "      <th>5</th>\n",
       "      <td>IA450</td>\n",
       "      <td>Counter Terrorism</td>\n",
       "      <td>EnGeo 1232</td>\n",
       "      <td>s7@jmu.edu</td>\n",
       "    </tr>\n",
       "    <tr>\n",
       "      <th>6</th>\n",
       "      <td>IA240</td>\n",
       "      <td>Intro to Python\\n</td>\n",
       "      <td>EnGeo1207</td>\n",
       "      <td>s7@jmu.edu</td>\n",
       "    </tr>\n",
       "    <tr>\n",
       "      <th>7</th>\n",
       "      <td>IA340\\n</td>\n",
       "      <td>Data Mining</td>\n",
       "      <td>ISAT0150</td>\n",
       "      <td>s7@jmu.edu</td>\n",
       "    </tr>\n",
       "  </tbody>\n",
       "</table>\n",
       "</div>"
      ],
      "text/plain": [
       "     c_num             c_name       c_room           p_email\n",
       "0    IA150        Intro to IA     ISAT1204  hendrinx@jmu.edu\n",
       "1    IA365       Cyber Intell  EnGeo2203\\n  marrinsp@jmu.edu\n",
       "2    IA480        Intro to ML   ISAT2010\\n  waltontr@jmu.edu\n",
       "3   IA 378             IA New         None        s7@jmu.edu\n",
       "4   IA 368             IA New         None        s7@jmu.edu\n",
       "5    IA450  Counter Terrorism   EnGeo 1232        s7@jmu.edu\n",
       "6    IA240  Intro to Python\\n    EnGeo1207        s7@jmu.edu\n",
       "7  IA340\\n        Data Mining     ISAT0150        s7@jmu.edu"
      ]
     },
     "execution_count": 22,
     "metadata": {},
     "output_type": "execute_result"
    }
   ],
   "source": [
    "df_student=pandas.read_sql_query('select * from gp22.course',conn)\n",
    "df_student[:]"
   ]
  },
  {
   "cell_type": "code",
   "execution_count": 23,
   "id": "15426316",
   "metadata": {},
   "outputs": [
    {
     "name": "stdout",
     "output_type": "stream",
     "text": [
      "\n",
      "                delete from gp22.professor\n",
      "                where p_email = 's6@jmu.edu'\n",
      "                \n"
     ]
    }
   ],
   "source": [
    "sql_statement = \"\"\"\n",
    "                delete from gp22.professor\n",
    "                where p_email = 's6@jmu.edu'\n",
    "                \"\"\"\n",
    "print(sql_statement)"
   ]
  },
  {
   "cell_type": "code",
   "execution_count": 24,
   "id": "9032ab63",
   "metadata": {},
   "outputs": [],
   "source": [
    "cur.execute(sql_statement)"
   ]
  },
  {
   "cell_type": "code",
   "execution_count": 25,
   "id": "4a7ff547",
   "metadata": {},
   "outputs": [],
   "source": [
    "conn.commit()"
   ]
  },
  {
   "cell_type": "code",
   "execution_count": 26,
   "id": "b8d57e7b",
   "metadata": {},
   "outputs": [
    {
     "data": {
      "text/html": [
       "<div>\n",
       "<style scoped>\n",
       "    .dataframe tbody tr th:only-of-type {\n",
       "        vertical-align: middle;\n",
       "    }\n",
       "\n",
       "    .dataframe tbody tr th {\n",
       "        vertical-align: top;\n",
       "    }\n",
       "\n",
       "    .dataframe thead th {\n",
       "        text-align: right;\n",
       "    }\n",
       "</style>\n",
       "<table border=\"1\" class=\"dataframe\">\n",
       "  <thead>\n",
       "    <tr style=\"text-align: right;\">\n",
       "      <th></th>\n",
       "      <th>p_email</th>\n",
       "      <th>p_name</th>\n",
       "      <th>p_office</th>\n",
       "    </tr>\n",
       "  </thead>\n",
       "  <tbody>\n",
       "    <tr>\n",
       "      <th>0</th>\n",
       "      <td>hendrinx@jmu.edu</td>\n",
       "      <td>noel hendrickson</td>\n",
       "      <td>isat0150</td>\n",
       "    </tr>\n",
       "    <tr>\n",
       "      <th>1</th>\n",
       "      <td>marrinsp@jmu.edu</td>\n",
       "      <td>stephen marrin</td>\n",
       "      <td>engeo1204</td>\n",
       "    </tr>\n",
       "    <tr>\n",
       "      <th>2</th>\n",
       "      <td>waltontr@jmu.edu</td>\n",
       "      <td>timothy walton</td>\n",
       "      <td>engeo1304</td>\n",
       "    </tr>\n",
       "    <tr>\n",
       "      <th>3</th>\n",
       "      <td>s7@jmu.edu</td>\n",
       "      <td>Steve Jobs</td>\n",
       "      <td>ISAT 1123</td>\n",
       "    </tr>\n",
       "  </tbody>\n",
       "</table>\n",
       "</div>"
      ],
      "text/plain": [
       "            p_email            p_name   p_office\n",
       "0  hendrinx@jmu.edu  noel hendrickson   isat0150\n",
       "1  marrinsp@jmu.edu    stephen marrin  engeo1204\n",
       "2  waltontr@jmu.edu    timothy walton  engeo1304\n",
       "3        s7@jmu.edu        Steve Jobs  ISAT 1123"
      ]
     },
     "execution_count": 26,
     "metadata": {},
     "output_type": "execute_result"
    }
   ],
   "source": [
    "df_student=pandas.read_sql_query('select * from gp22.professor',conn)\n",
    "df_student[:]"
   ]
  },
  {
   "cell_type": "code",
   "execution_count": 27,
   "id": "81dcc8a4",
   "metadata": {},
   "outputs": [],
   "source": [
    "cur.close()"
   ]
  },
  {
   "cell_type": "code",
   "execution_count": 28,
   "id": "b54e21ff",
   "metadata": {},
   "outputs": [],
   "source": [
    "conn.close()"
   ]
  },
  {
   "cell_type": "code",
   "execution_count": null,
   "id": "1776cc12",
   "metadata": {},
   "outputs": [],
   "source": []
  }
 ],
 "metadata": {
  "kernelspec": {
   "display_name": "conda_python3",
   "language": "python",
   "name": "conda_python3"
  },
  "language_info": {
   "codemirror_mode": {
    "name": "ipython",
    "version": 3
   },
   "file_extension": ".py",
   "mimetype": "text/x-python",
   "name": "python",
   "nbconvert_exporter": "python",
   "pygments_lexer": "ipython3",
   "version": "3.6.13"
  }
 },
 "nbformat": 4,
 "nbformat_minor": 5
}
